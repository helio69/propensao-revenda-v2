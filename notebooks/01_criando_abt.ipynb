{
  "cells": [
    {
      "cell_type": "code",
      "execution_count": null,
      "metadata": {
        "id": "QShXk0hGl2xh"
      },
      "outputs": [],
      "source": [
        "import numpy as np\n",
        "import pandas as pd"
      ]
    },
    {
      "cell_type": "markdown",
      "metadata": {
        "id": "ZBDch98Hn1Zq"
      },
      "source": [
        "# Carregando os Dados"
      ]
    },
    {
      "cell_type": "markdown",
      "metadata": {
        "id": "pJP7eC-5n30A"
      },
      "source": [
        "## Tabela de Pedidos"
      ]
    },
    {
      "cell_type": "code",
      "execution_count": null,
      "metadata": {
        "colab": {
          "base_uri": "https://localhost:8080/",
          "height": 224
        },
        "id": "QJcwft0xn3Vt",
        "outputId": "fc2e773f-d441-4211-9657-6295d4064dc2"
      },
      "outputs": [
        {
          "data": {
            "text/html": [
              "<div>\n",
              "<style scoped>\n",
              "    .dataframe tbody tr th:only-of-type {\n",
              "        vertical-align: middle;\n",
              "    }\n",
              "\n",
              "    .dataframe tbody tr th {\n",
              "        vertical-align: top;\n",
              "    }\n",
              "\n",
              "    .dataframe thead th {\n",
              "        text-align: right;\n",
              "    }\n",
              "</style>\n",
              "<table border=\"1\" class=\"dataframe\">\n",
              "  <thead>\n",
              "    <tr style=\"text-align: right;\">\n",
              "      <th></th>\n",
              "      <th>order_id</th>\n",
              "      <th>customer_id</th>\n",
              "      <th>order_status</th>\n",
              "      <th>order_purchase_timestamp</th>\n",
              "      <th>order_approved_at</th>\n",
              "      <th>order_delivered_carrier_date</th>\n",
              "      <th>order_delivered_customer_date</th>\n",
              "      <th>order_estimated_delivery_date</th>\n",
              "    </tr>\n",
              "  </thead>\n",
              "  <tbody>\n",
              "    <tr>\n",
              "      <th>0</th>\n",
              "      <td>e481f51cbdc54678b7cc49136f2d6af7</td>\n",
              "      <td>9ef432eb6251297304e76186b10a928d</td>\n",
              "      <td>delivered</td>\n",
              "      <td>2017-10-02 10:56:33</td>\n",
              "      <td>2017-10-02 11:07:15</td>\n",
              "      <td>2017-10-04 19:55:00</td>\n",
              "      <td>2017-10-10 21:25:13</td>\n",
              "      <td>2017-10-18 00:00:00</td>\n",
              "    </tr>\n",
              "    <tr>\n",
              "      <th>1</th>\n",
              "      <td>53cdb2fc8bc7dce0b6741e2150273451</td>\n",
              "      <td>b0830fb4747a6c6d20dea0b8c802d7ef</td>\n",
              "      <td>delivered</td>\n",
              "      <td>2018-07-24 20:41:37</td>\n",
              "      <td>2018-07-26 03:24:27</td>\n",
              "      <td>2018-07-26 14:31:00</td>\n",
              "      <td>2018-08-07 15:27:45</td>\n",
              "      <td>2018-08-13 00:00:00</td>\n",
              "    </tr>\n",
              "    <tr>\n",
              "      <th>2</th>\n",
              "      <td>47770eb9100c2d0c44946d9cf07ec65d</td>\n",
              "      <td>41ce2a54c0b03bf3443c3d931a367089</td>\n",
              "      <td>delivered</td>\n",
              "      <td>2018-08-08 08:38:49</td>\n",
              "      <td>2018-08-08 08:55:23</td>\n",
              "      <td>2018-08-08 13:50:00</td>\n",
              "      <td>2018-08-17 18:06:29</td>\n",
              "      <td>2018-09-04 00:00:00</td>\n",
              "    </tr>\n",
              "    <tr>\n",
              "      <th>3</th>\n",
              "      <td>949d5b44dbf5de918fe9c16f97b45f8a</td>\n",
              "      <td>f88197465ea7920adcdbec7375364d82</td>\n",
              "      <td>delivered</td>\n",
              "      <td>2017-11-18 19:28:06</td>\n",
              "      <td>2017-11-18 19:45:59</td>\n",
              "      <td>2017-11-22 13:39:59</td>\n",
              "      <td>2017-12-02 00:28:42</td>\n",
              "      <td>2017-12-15 00:00:00</td>\n",
              "    </tr>\n",
              "    <tr>\n",
              "      <th>4</th>\n",
              "      <td>ad21c59c0840e6cb83a9ceb5573f8159</td>\n",
              "      <td>8ab97904e6daea8866dbdbc4fb7aad2c</td>\n",
              "      <td>delivered</td>\n",
              "      <td>2018-02-13 21:18:39</td>\n",
              "      <td>2018-02-13 22:20:29</td>\n",
              "      <td>2018-02-14 19:46:34</td>\n",
              "      <td>2018-02-16 18:17:02</td>\n",
              "      <td>2018-02-26 00:00:00</td>\n",
              "    </tr>\n",
              "  </tbody>\n",
              "</table>\n",
              "</div>"
            ],
            "text/plain": [
              "                           order_id  ... order_estimated_delivery_date\n",
              "0  e481f51cbdc54678b7cc49136f2d6af7  ...           2017-10-18 00:00:00\n",
              "1  53cdb2fc8bc7dce0b6741e2150273451  ...           2018-08-13 00:00:00\n",
              "2  47770eb9100c2d0c44946d9cf07ec65d  ...           2018-09-04 00:00:00\n",
              "3  949d5b44dbf5de918fe9c16f97b45f8a  ...           2017-12-15 00:00:00\n",
              "4  ad21c59c0840e6cb83a9ceb5573f8159  ...           2018-02-26 00:00:00\n",
              "\n",
              "[5 rows x 8 columns]"
            ]
          },
          "execution_count": 4,
          "metadata": {
            "tags": []
          },
          "output_type": "execute_result"
        }
      ],
      "source": [
        "df_orders = pd.read_csv('../datasets/olist_orders_dataset.csv', parse_dates=['order_approved_at'])\n",
        "df_orders.head()"
      ]
    },
    {
      "cell_type": "markdown",
      "metadata": {
        "id": "iu9q1ZE9wisC"
      },
      "source": [
        "# Tabela de Item-Pedidos"
      ]
    },
    {
      "cell_type": "code",
      "execution_count": null,
      "metadata": {
        "colab": {
          "base_uri": "https://localhost:8080/",
          "height": 224
        },
        "id": "FBOErB-3wlUu",
        "outputId": "0a9ecd7f-3a72-4c12-f1c3-a66bdf093951"
      },
      "outputs": [
        {
          "data": {
            "text/html": [
              "<div>\n",
              "<style scoped>\n",
              "    .dataframe tbody tr th:only-of-type {\n",
              "        vertical-align: middle;\n",
              "    }\n",
              "\n",
              "    .dataframe tbody tr th {\n",
              "        vertical-align: top;\n",
              "    }\n",
              "\n",
              "    .dataframe thead th {\n",
              "        text-align: right;\n",
              "    }\n",
              "</style>\n",
              "<table border=\"1\" class=\"dataframe\">\n",
              "  <thead>\n",
              "    <tr style=\"text-align: right;\">\n",
              "      <th></th>\n",
              "      <th>order_id</th>\n",
              "      <th>order_item_id</th>\n",
              "      <th>product_id</th>\n",
              "      <th>seller_id</th>\n",
              "      <th>shipping_limit_date</th>\n",
              "      <th>price</th>\n",
              "      <th>freight_value</th>\n",
              "    </tr>\n",
              "  </thead>\n",
              "  <tbody>\n",
              "    <tr>\n",
              "      <th>0</th>\n",
              "      <td>00010242fe8c5a6d1ba2dd792cb16214</td>\n",
              "      <td>1</td>\n",
              "      <td>4244733e06e7ecb4970a6e2683c13e61</td>\n",
              "      <td>48436dade18ac8b2bce089ec2a041202</td>\n",
              "      <td>2017-09-19 09:45:35</td>\n",
              "      <td>58.90</td>\n",
              "      <td>13.29</td>\n",
              "    </tr>\n",
              "    <tr>\n",
              "      <th>1</th>\n",
              "      <td>00018f77f2f0320c557190d7a144bdd3</td>\n",
              "      <td>1</td>\n",
              "      <td>e5f2d52b802189ee658865ca93d83a8f</td>\n",
              "      <td>dd7ddc04e1b6c2c614352b383efe2d36</td>\n",
              "      <td>2017-05-03 11:05:13</td>\n",
              "      <td>239.90</td>\n",
              "      <td>19.93</td>\n",
              "    </tr>\n",
              "    <tr>\n",
              "      <th>2</th>\n",
              "      <td>000229ec398224ef6ca0657da4fc703e</td>\n",
              "      <td>1</td>\n",
              "      <td>c777355d18b72b67abbeef9df44fd0fd</td>\n",
              "      <td>5b51032eddd242adc84c38acab88f23d</td>\n",
              "      <td>2018-01-18 14:48:30</td>\n",
              "      <td>199.00</td>\n",
              "      <td>17.87</td>\n",
              "    </tr>\n",
              "    <tr>\n",
              "      <th>3</th>\n",
              "      <td>00024acbcdf0a6daa1e931b038114c75</td>\n",
              "      <td>1</td>\n",
              "      <td>7634da152a4610f1595efa32f14722fc</td>\n",
              "      <td>9d7a1d34a5052409006425275ba1c2b4</td>\n",
              "      <td>2018-08-15 10:10:18</td>\n",
              "      <td>12.99</td>\n",
              "      <td>12.79</td>\n",
              "    </tr>\n",
              "    <tr>\n",
              "      <th>4</th>\n",
              "      <td>00042b26cf59d7ce69dfabb4e55b4fd9</td>\n",
              "      <td>1</td>\n",
              "      <td>ac6c3623068f30de03045865e4e10089</td>\n",
              "      <td>df560393f3a51e74553ab94004ba5c87</td>\n",
              "      <td>2017-02-13 13:57:51</td>\n",
              "      <td>199.90</td>\n",
              "      <td>18.14</td>\n",
              "    </tr>\n",
              "  </tbody>\n",
              "</table>\n",
              "</div>"
            ],
            "text/plain": [
              "                           order_id  order_item_id  ...   price freight_value\n",
              "0  00010242fe8c5a6d1ba2dd792cb16214              1  ...   58.90         13.29\n",
              "1  00018f77f2f0320c557190d7a144bdd3              1  ...  239.90         19.93\n",
              "2  000229ec398224ef6ca0657da4fc703e              1  ...  199.00         17.87\n",
              "3  00024acbcdf0a6daa1e931b038114c75              1  ...   12.99         12.79\n",
              "4  00042b26cf59d7ce69dfabb4e55b4fd9              1  ...  199.90         18.14\n",
              "\n",
              "[5 rows x 7 columns]"
            ]
          },
          "execution_count": 5,
          "metadata": {
            "tags": []
          },
          "output_type": "execute_result"
        }
      ],
      "source": [
        "df_order_items = pd.read_csv('../datasets/olist_order_items_dataset.csv')\n",
        "df_order_items.head()"
      ]
    },
    {
      "cell_type": "markdown",
      "metadata": {
        "id": "Ow5Fhi1-1o01"
      },
      "source": [
        "# Tabela de Cadastro de Sellers"
      ]
    },
    {
      "cell_type": "code",
      "execution_count": null,
      "metadata": {
        "colab": {
          "base_uri": "https://localhost:8080/",
          "height": 204
        },
        "id": "Q5z0O7Mv1oIT",
        "outputId": "a35913ec-db5d-43c5-a7f0-dae226711973"
      },
      "outputs": [
        {
          "data": {
            "text/html": [
              "<div>\n",
              "<style scoped>\n",
              "    .dataframe tbody tr th:only-of-type {\n",
              "        vertical-align: middle;\n",
              "    }\n",
              "\n",
              "    .dataframe tbody tr th {\n",
              "        vertical-align: top;\n",
              "    }\n",
              "\n",
              "    .dataframe thead th {\n",
              "        text-align: right;\n",
              "    }\n",
              "</style>\n",
              "<table border=\"1\" class=\"dataframe\">\n",
              "  <thead>\n",
              "    <tr style=\"text-align: right;\">\n",
              "      <th></th>\n",
              "      <th>seller_id</th>\n",
              "      <th>seller_zip_code_prefix</th>\n",
              "      <th>seller_city</th>\n",
              "      <th>seller_state</th>\n",
              "    </tr>\n",
              "  </thead>\n",
              "  <tbody>\n",
              "    <tr>\n",
              "      <th>0</th>\n",
              "      <td>3442f8959a84dea7ee197c632cb2df15</td>\n",
              "      <td>13023</td>\n",
              "      <td>campinas</td>\n",
              "      <td>SP</td>\n",
              "    </tr>\n",
              "    <tr>\n",
              "      <th>1</th>\n",
              "      <td>d1b65fc7debc3361ea86b5f14c68d2e2</td>\n",
              "      <td>13844</td>\n",
              "      <td>mogi guacu</td>\n",
              "      <td>SP</td>\n",
              "    </tr>\n",
              "    <tr>\n",
              "      <th>2</th>\n",
              "      <td>ce3ad9de960102d0677a81f5d0bb7b2d</td>\n",
              "      <td>20031</td>\n",
              "      <td>rio de janeiro</td>\n",
              "      <td>RJ</td>\n",
              "    </tr>\n",
              "    <tr>\n",
              "      <th>3</th>\n",
              "      <td>c0f3eea2e14555b6faeea3dd58c1b1c3</td>\n",
              "      <td>4195</td>\n",
              "      <td>sao paulo</td>\n",
              "      <td>SP</td>\n",
              "    </tr>\n",
              "    <tr>\n",
              "      <th>4</th>\n",
              "      <td>51a04a8a6bdcb23deccc82b0b80742cf</td>\n",
              "      <td>12914</td>\n",
              "      <td>braganca paulista</td>\n",
              "      <td>SP</td>\n",
              "    </tr>\n",
              "  </tbody>\n",
              "</table>\n",
              "</div>"
            ],
            "text/plain": [
              "                          seller_id  ...  seller_state\n",
              "0  3442f8959a84dea7ee197c632cb2df15  ...            SP\n",
              "1  d1b65fc7debc3361ea86b5f14c68d2e2  ...            SP\n",
              "2  ce3ad9de960102d0677a81f5d0bb7b2d  ...            RJ\n",
              "3  c0f3eea2e14555b6faeea3dd58c1b1c3  ...            SP\n",
              "4  51a04a8a6bdcb23deccc82b0b80742cf  ...            SP\n",
              "\n",
              "[5 rows x 4 columns]"
            ]
          },
          "execution_count": 6,
          "metadata": {
            "tags": []
          },
          "output_type": "execute_result"
        }
      ],
      "source": [
        "df_sellers = pd.read_csv('../datasets/olist_sellers_dataset.csv')\n",
        "df_sellers.head()"
      ]
    },
    {
      "cell_type": "markdown",
      "metadata": {
        "id": "GCilpTiOzMO4"
      },
      "source": [
        "# Criando a ABT de Classificação - 1 Safra\n",
        "\n",
        "Aqui iremos a nossa ABT utilizando apenas 1 safra, que é a safra com data de referência 2018-01-01.\n",
        "\n",
        "Como iremos utilizar um histórico de 18 meses, sendo os primeiros 12 meses para construir as features e o últimos 6 meses para construir a variável target, temos então que a data limite inferior corresponde a data de referência subtraída de 12 meses, ou seja, 2017-01-01. Já a data limite superior corresponde a data de referência adicionada de 6 meses, 2018-07-01 (exclusiva)."
      ]
    },
    {
      "cell_type": "code",
      "execution_count": null,
      "metadata": {
        "colab": {
          "base_uri": "https://localhost:8080/",
          "height": 224
        },
        "id": "8NyjDkNazPnA",
        "outputId": "607f96cc-258c-4a72-d77e-8b1cf0ae2baf"
      },
      "outputs": [
        {
          "data": {
            "text/html": [
              "<div>\n",
              "<style scoped>\n",
              "    .dataframe tbody tr th:only-of-type {\n",
              "        vertical-align: middle;\n",
              "    }\n",
              "\n",
              "    .dataframe tbody tr th {\n",
              "        vertical-align: top;\n",
              "    }\n",
              "\n",
              "    .dataframe thead th {\n",
              "        text-align: right;\n",
              "    }\n",
              "</style>\n",
              "<table border=\"1\" class=\"dataframe\">\n",
              "  <thead>\n",
              "    <tr style=\"text-align: right;\">\n",
              "      <th></th>\n",
              "      <th>order_id</th>\n",
              "      <th>order_item_id</th>\n",
              "      <th>product_id</th>\n",
              "      <th>seller_id</th>\n",
              "      <th>shipping_limit_date</th>\n",
              "      <th>price</th>\n",
              "      <th>freight_value</th>\n",
              "      <th>customer_id</th>\n",
              "      <th>order_status</th>\n",
              "      <th>order_purchase_timestamp</th>\n",
              "      <th>order_approved_at</th>\n",
              "      <th>order_delivered_carrier_date</th>\n",
              "      <th>order_delivered_customer_date</th>\n",
              "      <th>order_estimated_delivery_date</th>\n",
              "      <th>seller_zip_code_prefix</th>\n",
              "      <th>seller_city</th>\n",
              "      <th>seller_state</th>\n",
              "    </tr>\n",
              "  </thead>\n",
              "  <tbody>\n",
              "    <tr>\n",
              "      <th>0</th>\n",
              "      <td>00010242fe8c5a6d1ba2dd792cb16214</td>\n",
              "      <td>1</td>\n",
              "      <td>4244733e06e7ecb4970a6e2683c13e61</td>\n",
              "      <td>48436dade18ac8b2bce089ec2a041202</td>\n",
              "      <td>2017-09-19 09:45:35</td>\n",
              "      <td>58.9</td>\n",
              "      <td>13.29</td>\n",
              "      <td>3ce436f183e68e07877b285a838db11a</td>\n",
              "      <td>delivered</td>\n",
              "      <td>2017-09-13 08:59:02</td>\n",
              "      <td>2017-09-13 09:45:35</td>\n",
              "      <td>2017-09-19 18:34:16</td>\n",
              "      <td>2017-09-20 23:43:48</td>\n",
              "      <td>2017-09-29 00:00:00</td>\n",
              "      <td>27277</td>\n",
              "      <td>volta redonda</td>\n",
              "      <td>SP</td>\n",
              "    </tr>\n",
              "    <tr>\n",
              "      <th>1</th>\n",
              "      <td>00018f77f2f0320c557190d7a144bdd3</td>\n",
              "      <td>1</td>\n",
              "      <td>e5f2d52b802189ee658865ca93d83a8f</td>\n",
              "      <td>dd7ddc04e1b6c2c614352b383efe2d36</td>\n",
              "      <td>2017-05-03 11:05:13</td>\n",
              "      <td>239.9</td>\n",
              "      <td>19.93</td>\n",
              "      <td>f6dd3ec061db4e3987629fe6b26e5cce</td>\n",
              "      <td>delivered</td>\n",
              "      <td>2017-04-26 10:53:06</td>\n",
              "      <td>2017-04-26 11:05:13</td>\n",
              "      <td>2017-05-04 14:35:00</td>\n",
              "      <td>2017-05-12 16:04:24</td>\n",
              "      <td>2017-05-15 00:00:00</td>\n",
              "      <td>3471</td>\n",
              "      <td>sao paulo</td>\n",
              "      <td>SP</td>\n",
              "    </tr>\n",
              "    <tr>\n",
              "      <th>2</th>\n",
              "      <td>000229ec398224ef6ca0657da4fc703e</td>\n",
              "      <td>1</td>\n",
              "      <td>c777355d18b72b67abbeef9df44fd0fd</td>\n",
              "      <td>5b51032eddd242adc84c38acab88f23d</td>\n",
              "      <td>2018-01-18 14:48:30</td>\n",
              "      <td>199.0</td>\n",
              "      <td>17.87</td>\n",
              "      <td>6489ae5e4333f3693df5ad4372dab6d3</td>\n",
              "      <td>delivered</td>\n",
              "      <td>2018-01-14 14:33:31</td>\n",
              "      <td>2018-01-14 14:48:30</td>\n",
              "      <td>2018-01-16 12:36:48</td>\n",
              "      <td>2018-01-22 13:19:16</td>\n",
              "      <td>2018-02-05 00:00:00</td>\n",
              "      <td>37564</td>\n",
              "      <td>borda da mata</td>\n",
              "      <td>MG</td>\n",
              "    </tr>\n",
              "    <tr>\n",
              "      <th>3</th>\n",
              "      <td>00042b26cf59d7ce69dfabb4e55b4fd9</td>\n",
              "      <td>1</td>\n",
              "      <td>ac6c3623068f30de03045865e4e10089</td>\n",
              "      <td>df560393f3a51e74553ab94004ba5c87</td>\n",
              "      <td>2017-02-13 13:57:51</td>\n",
              "      <td>199.9</td>\n",
              "      <td>18.14</td>\n",
              "      <td>58dbd0b2d70206bf40e62cd34e84d795</td>\n",
              "      <td>delivered</td>\n",
              "      <td>2017-02-04 13:57:51</td>\n",
              "      <td>2017-02-04 14:10:13</td>\n",
              "      <td>2017-02-16 09:46:09</td>\n",
              "      <td>2017-03-01 16:42:31</td>\n",
              "      <td>2017-03-17 00:00:00</td>\n",
              "      <td>87900</td>\n",
              "      <td>loanda</td>\n",
              "      <td>PR</td>\n",
              "    </tr>\n",
              "    <tr>\n",
              "      <th>4</th>\n",
              "      <td>00048cc3ae777c65dbb7d2a0634bc1ea</td>\n",
              "      <td>1</td>\n",
              "      <td>ef92defde845ab8450f9d70c526ef70f</td>\n",
              "      <td>6426d21aca402a131fc0a5d0960a3c90</td>\n",
              "      <td>2017-05-23 03:55:27</td>\n",
              "      <td>21.9</td>\n",
              "      <td>12.69</td>\n",
              "      <td>816cbea969fe5b689b39cfc97a506742</td>\n",
              "      <td>delivered</td>\n",
              "      <td>2017-05-15 21:42:34</td>\n",
              "      <td>2017-05-17 03:55:27</td>\n",
              "      <td>2017-05-17 11:05:55</td>\n",
              "      <td>2017-05-22 13:44:35</td>\n",
              "      <td>2017-06-06 00:00:00</td>\n",
              "      <td>14091</td>\n",
              "      <td>ribeirao preto</td>\n",
              "      <td>SP</td>\n",
              "    </tr>\n",
              "  </tbody>\n",
              "</table>\n",
              "</div>"
            ],
            "text/plain": [
              "                           order_id  order_item_id  ...     seller_city seller_state\n",
              "0  00010242fe8c5a6d1ba2dd792cb16214              1  ...   volta redonda           SP\n",
              "1  00018f77f2f0320c557190d7a144bdd3              1  ...       sao paulo           SP\n",
              "2  000229ec398224ef6ca0657da4fc703e              1  ...   borda da mata           MG\n",
              "3  00042b26cf59d7ce69dfabb4e55b4fd9              1  ...          loanda           PR\n",
              "4  00048cc3ae777c65dbb7d2a0634bc1ea              1  ...  ribeirao preto           SP\n",
              "\n",
              "[5 rows x 17 columns]"
            ]
          },
          "execution_count": 7,
          "metadata": {
            "tags": []
          },
          "output_type": "execute_result"
        }
      ],
      "source": [
        "# criando histórico da abt de treino - apenas 1 safra\n",
        "df_historico_abt_train = (\n",
        "    df_order_items\n",
        "    .merge(df_orders, on='order_id', how='left')\n",
        "    .query('order_status == \"delivered\"')\n",
        "    .query('order_approved_at >= \"2017-01-01\" & order_approved_at < \"2018-07-01\"')\n",
        "    .merge(df_sellers, on='seller_id', how='left')\n",
        ")\n",
        "df_historico_abt_train.head()"
      ]
    },
    {
      "cell_type": "code",
      "execution_count": null,
      "metadata": {
        "colab": {
          "base_uri": "https://localhost:8080/",
          "height": 111
        },
        "id": "r-3_smcwFbg_",
        "outputId": "576c47cf-c91f-4941-fb2c-f2cdb3123dd2"
      },
      "outputs": [
        {
          "data": {
            "text/html": [
              "<div>\n",
              "<style scoped>\n",
              "    .dataframe tbody tr th:only-of-type {\n",
              "        vertical-align: middle;\n",
              "    }\n",
              "\n",
              "    .dataframe tbody tr th {\n",
              "        vertical-align: top;\n",
              "    }\n",
              "\n",
              "    .dataframe thead th {\n",
              "        text-align: right;\n",
              "    }\n",
              "</style>\n",
              "<table border=\"1\" class=\"dataframe\">\n",
              "  <thead>\n",
              "    <tr style=\"text-align: right;\">\n",
              "      <th></th>\n",
              "      <th>order_approved_at</th>\n",
              "    </tr>\n",
              "  </thead>\n",
              "  <tbody>\n",
              "    <tr>\n",
              "      <th>min</th>\n",
              "      <td>2017-01-05 12:10:17</td>\n",
              "    </tr>\n",
              "    <tr>\n",
              "      <th>max</th>\n",
              "      <td>2018-06-30 23:35:15</td>\n",
              "    </tr>\n",
              "  </tbody>\n",
              "</table>\n",
              "</div>"
            ],
            "text/plain": [
              "      order_approved_at\n",
              "min 2017-01-05 12:10:17\n",
              "max 2018-06-30 23:35:15"
            ]
          },
          "execution_count": 8,
          "metadata": {
            "tags": []
          },
          "output_type": "execute_result"
        }
      ],
      "source": [
        "df_historico_abt_train.agg({'order_approved_at': ['min', 'max']})"
      ]
    },
    {
      "cell_type": "code",
      "execution_count": null,
      "metadata": {
        "colab": {
          "base_uri": "https://localhost:8080/",
          "height": 309
        },
        "id": "NcWH_C023Yyx",
        "outputId": "9d9887ad-5343-41c1-a87d-977c5c6c194f"
      },
      "outputs": [
        {
          "data": {
            "text/html": [
              "<div>\n",
              "<style scoped>\n",
              "    .dataframe tbody tr th:only-of-type {\n",
              "        vertical-align: middle;\n",
              "    }\n",
              "\n",
              "    .dataframe tbody tr th {\n",
              "        vertical-align: top;\n",
              "    }\n",
              "\n",
              "    .dataframe thead th {\n",
              "        text-align: right;\n",
              "    }\n",
              "</style>\n",
              "<table border=\"1\" class=\"dataframe\">\n",
              "  <thead>\n",
              "    <tr style=\"text-align: right;\">\n",
              "      <th></th>\n",
              "      <th>seller_id</th>\n",
              "      <th>uf</th>\n",
              "      <th>tot_orders_12m</th>\n",
              "      <th>tot_items_12m</th>\n",
              "      <th>tot_items_dist_12m</th>\n",
              "      <th>receita_12m</th>\n",
              "      <th>data_ult_vnd</th>\n",
              "      <th>data_ref</th>\n",
              "      <th>recencia</th>\n",
              "    </tr>\n",
              "  </thead>\n",
              "  <tbody>\n",
              "    <tr>\n",
              "      <th>0</th>\n",
              "      <td>0015a82c2db000af6aaaf3ae2ecb0532</td>\n",
              "      <td>SP</td>\n",
              "      <td>3</td>\n",
              "      <td>3</td>\n",
              "      <td>1</td>\n",
              "      <td>2685.00</td>\n",
              "      <td>2017-10-18 23:56:20</td>\n",
              "      <td>2018-01-01</td>\n",
              "      <td>74</td>\n",
              "    </tr>\n",
              "    <tr>\n",
              "      <th>1</th>\n",
              "      <td>001cca7ae9ae17fb1caed9dfb1094831</td>\n",
              "      <td>ES</td>\n",
              "      <td>171</td>\n",
              "      <td>207</td>\n",
              "      <td>9</td>\n",
              "      <td>21275.23</td>\n",
              "      <td>2017-12-29 02:09:49</td>\n",
              "      <td>2018-01-01</td>\n",
              "      <td>2</td>\n",
              "    </tr>\n",
              "    <tr>\n",
              "      <th>2</th>\n",
              "      <td>002100f778ceb8431b7a1020ff7ab48f</td>\n",
              "      <td>SP</td>\n",
              "      <td>38</td>\n",
              "      <td>42</td>\n",
              "      <td>15</td>\n",
              "      <td>781.80</td>\n",
              "      <td>2017-12-29 02:10:04</td>\n",
              "      <td>2018-01-01</td>\n",
              "      <td>2</td>\n",
              "    </tr>\n",
              "    <tr>\n",
              "      <th>3</th>\n",
              "      <td>003554e2dce176b5555353e4f3555ac8</td>\n",
              "      <td>GO</td>\n",
              "      <td>1</td>\n",
              "      <td>1</td>\n",
              "      <td>1</td>\n",
              "      <td>120.00</td>\n",
              "      <td>2017-12-15 07:11:03</td>\n",
              "      <td>2018-01-01</td>\n",
              "      <td>16</td>\n",
              "    </tr>\n",
              "    <tr>\n",
              "      <th>4</th>\n",
              "      <td>004c9cd9d87a3c30c522c48c4fc07416</td>\n",
              "      <td>SP</td>\n",
              "      <td>130</td>\n",
              "      <td>141</td>\n",
              "      <td>75</td>\n",
              "      <td>16228.88</td>\n",
              "      <td>2017-12-23 21:49:44</td>\n",
              "      <td>2018-01-01</td>\n",
              "      <td>8</td>\n",
              "    </tr>\n",
              "  </tbody>\n",
              "</table>\n",
              "</div>"
            ],
            "text/plain": [
              "                          seller_id  uf  ...   data_ref  recencia\n",
              "0  0015a82c2db000af6aaaf3ae2ecb0532  SP  ... 2018-01-01        74\n",
              "1  001cca7ae9ae17fb1caed9dfb1094831  ES  ... 2018-01-01         2\n",
              "2  002100f778ceb8431b7a1020ff7ab48f  SP  ... 2018-01-01         2\n",
              "3  003554e2dce176b5555353e4f3555ac8  GO  ... 2018-01-01        16\n",
              "4  004c9cd9d87a3c30c522c48c4fc07416  SP  ... 2018-01-01         8\n",
              "\n",
              "[5 rows x 9 columns]"
            ]
          },
          "execution_count": 9,
          "metadata": {
            "tags": []
          },
          "output_type": "execute_result"
        }
      ],
      "source": [
        "# criando as features\n",
        "df_features_train = (\n",
        "    df_historico_abt_train\n",
        "    .query('order_approved_at < \"2018-01-01\"')\n",
        "    .groupby('seller_id')\n",
        "    .agg(uf = ('seller_state', 'first'),\n",
        "         tot_orders_12m = ('order_id', 'nunique'),\n",
        "         tot_items_12m = ('product_id', 'count'),\n",
        "         tot_items_dist_12m = ('product_id', 'nunique'),\n",
        "         receita_12m = ('price', 'sum'),\n",
        "         data_ult_vnd = ('order_approved_at', 'max'))\n",
        "    .reset_index()   \n",
        "    .assign(data_ref = pd.to_datetime('2018-01-01 00:00:00'))\n",
        "    .assign(recencia = lambda df: (df['data_ref'] - df['data_ult_vnd']).dt.days)\n",
        ")\n",
        "df_features_train.head()"
      ]
    },
    {
      "cell_type": "code",
      "execution_count": null,
      "metadata": {
        "colab": {
          "base_uri": "https://localhost:8080/",
          "height": 309
        },
        "id": "0OqbBGpwFI9W",
        "outputId": "69270649-7b02-43ba-fa53-e36faa0e2d36"
      },
      "outputs": [
        {
          "data": {
            "text/html": [
              "<div>\n",
              "<style scoped>\n",
              "    .dataframe tbody tr th:only-of-type {\n",
              "        vertical-align: middle;\n",
              "    }\n",
              "\n",
              "    .dataframe tbody tr th {\n",
              "        vertical-align: top;\n",
              "    }\n",
              "\n",
              "    .dataframe thead th {\n",
              "        text-align: right;\n",
              "    }\n",
              "</style>\n",
              "<table border=\"1\" class=\"dataframe\">\n",
              "  <thead>\n",
              "    <tr style=\"text-align: right;\">\n",
              "      <th></th>\n",
              "      <th>seller_id</th>\n",
              "      <th>uf</th>\n",
              "      <th>tot_orders_12m</th>\n",
              "      <th>tot_items_12m</th>\n",
              "      <th>tot_items_dist_12m</th>\n",
              "      <th>receita_12m</th>\n",
              "      <th>data_ult_vnd</th>\n",
              "      <th>data_ref</th>\n",
              "      <th>recencia</th>\n",
              "    </tr>\n",
              "  </thead>\n",
              "  <tbody>\n",
              "    <tr>\n",
              "      <th>1342</th>\n",
              "      <td>c9a06ece156bb057372c68718ec8909b</td>\n",
              "      <td>DF</td>\n",
              "      <td>9</td>\n",
              "      <td>9</td>\n",
              "      <td>1</td>\n",
              "      <td>3420.00</td>\n",
              "      <td>2017-01-15 18:05:14</td>\n",
              "      <td>2018-01-01</td>\n",
              "      <td>350</td>\n",
              "    </tr>\n",
              "    <tr>\n",
              "      <th>456</th>\n",
              "      <td>436bf27f2f18474fc6047702e9f8a866</td>\n",
              "      <td>SP</td>\n",
              "      <td>1</td>\n",
              "      <td>1</td>\n",
              "      <td>1</td>\n",
              "      <td>29.90</td>\n",
              "      <td>2017-01-18 13:05:15</td>\n",
              "      <td>2018-01-01</td>\n",
              "      <td>347</td>\n",
              "    </tr>\n",
              "    <tr>\n",
              "      <th>1453</th>\n",
              "      <td>dd264199fc8b687ad029de7de6d760e6</td>\n",
              "      <td>PR</td>\n",
              "      <td>1</td>\n",
              "      <td>1</td>\n",
              "      <td>1</td>\n",
              "      <td>87.90</td>\n",
              "      <td>2017-01-19 13:30:21</td>\n",
              "      <td>2018-01-01</td>\n",
              "      <td>346</td>\n",
              "    </tr>\n",
              "    <tr>\n",
              "      <th>1589</th>\n",
              "      <td>f235413f677777a0738ff215d0184901</td>\n",
              "      <td>SP</td>\n",
              "      <td>2</td>\n",
              "      <td>2</td>\n",
              "      <td>1</td>\n",
              "      <td>1191.98</td>\n",
              "      <td>2017-01-23 19:45:12</td>\n",
              "      <td>2018-01-01</td>\n",
              "      <td>342</td>\n",
              "    </tr>\n",
              "    <tr>\n",
              "      <th>880</th>\n",
              "      <td>822b63912576852aea9a8436d72317b7</td>\n",
              "      <td>SP</td>\n",
              "      <td>3</td>\n",
              "      <td>4</td>\n",
              "      <td>2</td>\n",
              "      <td>615.96</td>\n",
              "      <td>2017-01-24 12:25:27</td>\n",
              "      <td>2018-01-01</td>\n",
              "      <td>341</td>\n",
              "    </tr>\n",
              "  </tbody>\n",
              "</table>\n",
              "</div>"
            ],
            "text/plain": [
              "                             seller_id  uf  ...   data_ref  recencia\n",
              "1342  c9a06ece156bb057372c68718ec8909b  DF  ... 2018-01-01       350\n",
              "456   436bf27f2f18474fc6047702e9f8a866  SP  ... 2018-01-01       347\n",
              "1453  dd264199fc8b687ad029de7de6d760e6  PR  ... 2018-01-01       346\n",
              "1589  f235413f677777a0738ff215d0184901  SP  ... 2018-01-01       342\n",
              "880   822b63912576852aea9a8436d72317b7  SP  ... 2018-01-01       341\n",
              "\n",
              "[5 rows x 9 columns]"
            ]
          },
          "execution_count": 10,
          "metadata": {
            "tags": []
          },
          "output_type": "execute_result"
        }
      ],
      "source": [
        "df_features_train.sort_values('recencia', ascending=False).head()"
      ]
    },
    {
      "cell_type": "code",
      "execution_count": null,
      "metadata": {
        "colab": {
          "base_uri": "https://localhost:8080/",
          "height": 204
        },
        "id": "eqDBz0s6FSx6",
        "outputId": "5d00b78e-d49f-412f-9d51-d0c9046f16e7"
      },
      "outputs": [
        {
          "data": {
            "text/html": [
              "<div>\n",
              "<style scoped>\n",
              "    .dataframe tbody tr th:only-of-type {\n",
              "        vertical-align: middle;\n",
              "    }\n",
              "\n",
              "    .dataframe tbody tr th {\n",
              "        vertical-align: top;\n",
              "    }\n",
              "\n",
              "    .dataframe thead th {\n",
              "        text-align: right;\n",
              "    }\n",
              "</style>\n",
              "<table border=\"1\" class=\"dataframe\">\n",
              "  <thead>\n",
              "    <tr style=\"text-align: right;\">\n",
              "      <th></th>\n",
              "      <th>seller_id</th>\n",
              "    </tr>\n",
              "  </thead>\n",
              "  <tbody>\n",
              "    <tr>\n",
              "      <th>2</th>\n",
              "      <td>5b51032eddd242adc84c38acab88f23d</td>\n",
              "    </tr>\n",
              "    <tr>\n",
              "      <th>6</th>\n",
              "      <td>a416b6a846a11724393025641d4edd5e</td>\n",
              "    </tr>\n",
              "    <tr>\n",
              "      <th>7</th>\n",
              "      <td>cc419e0650a3c5ba77189a1882b7556a</td>\n",
              "    </tr>\n",
              "    <tr>\n",
              "      <th>8</th>\n",
              "      <td>1f50f920176fa81dab994f9023523100</td>\n",
              "    </tr>\n",
              "    <tr>\n",
              "      <th>10</th>\n",
              "      <td>fcb5ace8bcc92f75707dc0f01a27d269</td>\n",
              "    </tr>\n",
              "  </tbody>\n",
              "</table>\n",
              "</div>"
            ],
            "text/plain": [
              "                           seller_id\n",
              "2   5b51032eddd242adc84c38acab88f23d\n",
              "6   a416b6a846a11724393025641d4edd5e\n",
              "7   cc419e0650a3c5ba77189a1882b7556a\n",
              "8   1f50f920176fa81dab994f9023523100\n",
              "10  fcb5ace8bcc92f75707dc0f01a27d269"
            ]
          },
          "execution_count": 11,
          "metadata": {
            "tags": []
          },
          "output_type": "execute_result"
        }
      ],
      "source": [
        "# criando o target\n",
        "df_target_train = (\n",
        "    df_historico_abt_train\n",
        "    .query('order_approved_at >= \"2018-01-01\" & order_approved_at < \"2018-07-01\"')\n",
        "    .filter(['seller_id'])\n",
        "    .drop_duplicates()\n",
        ")\n",
        "df_target_train.head()"
      ]
    },
    {
      "cell_type": "code",
      "execution_count": null,
      "metadata": {
        "colab": {
          "base_uri": "https://localhost:8080/",
          "height": 204
        },
        "id": "CNwYCUuMHCk_",
        "outputId": "b3eed6c1-f7e4-4f73-ccbf-af7f106b8114"
      },
      "outputs": [
        {
          "data": {
            "text/html": [
              "<div>\n",
              "<style scoped>\n",
              "    .dataframe tbody tr th:only-of-type {\n",
              "        vertical-align: middle;\n",
              "    }\n",
              "\n",
              "    .dataframe tbody tr th {\n",
              "        vertical-align: top;\n",
              "    }\n",
              "\n",
              "    .dataframe thead th {\n",
              "        text-align: right;\n",
              "    }\n",
              "</style>\n",
              "<table border=\"1\" class=\"dataframe\">\n",
              "  <thead>\n",
              "    <tr style=\"text-align: right;\">\n",
              "      <th></th>\n",
              "      <th>data_ref</th>\n",
              "      <th>seller_id</th>\n",
              "      <th>uf</th>\n",
              "      <th>tot_orders_12m</th>\n",
              "      <th>tot_items_12m</th>\n",
              "      <th>tot_items_dist_12m</th>\n",
              "      <th>receita_12m</th>\n",
              "      <th>recencia</th>\n",
              "      <th>nao_revendeu_next_6m</th>\n",
              "    </tr>\n",
              "  </thead>\n",
              "  <tbody>\n",
              "    <tr>\n",
              "      <th>0</th>\n",
              "      <td>2018-01-01</td>\n",
              "      <td>0015a82c2db000af6aaaf3ae2ecb0532</td>\n",
              "      <td>SP</td>\n",
              "      <td>3</td>\n",
              "      <td>3</td>\n",
              "      <td>1</td>\n",
              "      <td>2685.00</td>\n",
              "      <td>74</td>\n",
              "      <td>1</td>\n",
              "    </tr>\n",
              "    <tr>\n",
              "      <th>1</th>\n",
              "      <td>2018-01-01</td>\n",
              "      <td>001cca7ae9ae17fb1caed9dfb1094831</td>\n",
              "      <td>ES</td>\n",
              "      <td>171</td>\n",
              "      <td>207</td>\n",
              "      <td>9</td>\n",
              "      <td>21275.23</td>\n",
              "      <td>2</td>\n",
              "      <td>0</td>\n",
              "    </tr>\n",
              "    <tr>\n",
              "      <th>2</th>\n",
              "      <td>2018-01-01</td>\n",
              "      <td>002100f778ceb8431b7a1020ff7ab48f</td>\n",
              "      <td>SP</td>\n",
              "      <td>38</td>\n",
              "      <td>42</td>\n",
              "      <td>15</td>\n",
              "      <td>781.80</td>\n",
              "      <td>2</td>\n",
              "      <td>0</td>\n",
              "    </tr>\n",
              "    <tr>\n",
              "      <th>3</th>\n",
              "      <td>2018-01-01</td>\n",
              "      <td>003554e2dce176b5555353e4f3555ac8</td>\n",
              "      <td>GO</td>\n",
              "      <td>1</td>\n",
              "      <td>1</td>\n",
              "      <td>1</td>\n",
              "      <td>120.00</td>\n",
              "      <td>16</td>\n",
              "      <td>1</td>\n",
              "    </tr>\n",
              "    <tr>\n",
              "      <th>4</th>\n",
              "      <td>2018-01-01</td>\n",
              "      <td>004c9cd9d87a3c30c522c48c4fc07416</td>\n",
              "      <td>SP</td>\n",
              "      <td>130</td>\n",
              "      <td>141</td>\n",
              "      <td>75</td>\n",
              "      <td>16228.88</td>\n",
              "      <td>8</td>\n",
              "      <td>0</td>\n",
              "    </tr>\n",
              "  </tbody>\n",
              "</table>\n",
              "</div>"
            ],
            "text/plain": [
              "    data_ref                         seller_id  ... recencia  nao_revendeu_next_6m\n",
              "0 2018-01-01  0015a82c2db000af6aaaf3ae2ecb0532  ...       74                     1\n",
              "1 2018-01-01  001cca7ae9ae17fb1caed9dfb1094831  ...        2                     0\n",
              "2 2018-01-01  002100f778ceb8431b7a1020ff7ab48f  ...        2                     0\n",
              "3 2018-01-01  003554e2dce176b5555353e4f3555ac8  ...       16                     1\n",
              "4 2018-01-01  004c9cd9d87a3c30c522c48c4fc07416  ...        8                     0\n",
              "\n",
              "[5 rows x 9 columns]"
            ]
          },
          "execution_count": 14,
          "metadata": {
            "tags": []
          },
          "output_type": "execute_result"
        }
      ],
      "source": [
        "# criando a abt de fato\n",
        "df_abt_train = (\n",
        "    df_features_train\n",
        "    .merge(df_target_train, on='seller_id', how='left', indicator=True)\n",
        "    # left_only = churn (1), both = não churn (0)\n",
        "    .assign(nao_revendeu_next_6m = lambda df: np.where(df['_merge'] == \"left_only\", 1, 0))\n",
        "    .filter(['data_ref', \n",
        "             'seller_id',\n",
        "             'uf',\n",
        "             'tot_orders_12m',\n",
        "             'tot_items_12m',\n",
        "             'tot_items_dist_12m',\n",
        "             'receita_12m',\n",
        "             'recencia',\n",
        "             'nao_revendeu_next_6m'])\n",
        ")\n",
        "df_abt_train.head()"
      ]
    },
    {
      "cell_type": "markdown",
      "metadata": {
        "id": "WphW7cugY3Zr"
      },
      "source": [
        "# Criando Várias Safras\n",
        "\n",
        "No código anterior criamos apenas uma safra. Mas o que acontece quando o tempo passa? Um dado vendedor pode ter o seu perfil alterado de acordo com as oscilações de mercado que acontecem no tempo. Um vendedor que em janeiro de 2018 vendia bastante eletrodomésticos, em fevereiro pode vender mais roupas. Essa mudança de perfil pode ser capturada para que o algoritmo de machine learning aprenda incluindo várias safras na base de treinamento."
      ]
    },
    {
      "cell_type": "code",
      "execution_count": null,
      "metadata": {
        "id": "NUdeFVsjY2Lq"
      },
      "outputs": [],
      "source": [
        "import dateutil\n",
        "\n",
        "df_abt_safras = pd.DataFrame()\n",
        "for safra in ['2018-01-01', '2018-02-01', '2018-03-01']:\n",
        "    data_ref_safra     = pd.to_datetime(safra).date()\n",
        "    data_inf_inclusiva = data_ref_safra - dateutil.relativedelta.relativedelta(months=12)\n",
        "    data_sup_exclusiva = data_ref_safra + dateutil.relativedelta.relativedelta(months=6)  \n",
        "    #print(f\"Data Ref: {data_ref_safra}; Data Inf: {data_inf_inclusiva}; Data Sup: {data_sup_exclusiva}\")\n",
        "\n",
        "    df_historico_abt = (\n",
        "        df_order_items\n",
        "        .merge(df_orders, on='order_id', how='inner')\n",
        "        .query('order_status == \"delivered\"')\n",
        "        .query(f'order_approved_at >= \"{data_inf_inclusiva}\" & order_approved_at < \"{data_sup_exclusiva}\"')\n",
        "        .merge(df_sellers, on='seller_id', how='left')\n",
        "    )\n",
        "\n",
        "    df_features = (\n",
        "        df_historico_abt\n",
        "        .query(f'order_approved_at < \"{data_ref_safra}\"')\n",
        "        .groupby('seller_id')\n",
        "        .agg(uf                 = ('seller_state', 'first'),\n",
        "             tot_orders_12m     = ('order_id', 'nunique'),\n",
        "             tot_items_12m      = ('product_id', 'count'),\n",
        "             tot_items_dist_12m = ('product_id', 'nunique'),\n",
        "             receita_12m        = ('price', 'sum'),\n",
        "             data_ult_vnd       = ('order_approved_at', 'max'))\n",
        "        .reset_index()\n",
        "        .assign(data_ref_safra = pd.to_datetime(f'{data_ref_safra}'))\n",
        "        .assign(recencia = lambda df: (df['data_ref_safra'] - df['data_ult_vnd']).dt.days)\n",
        "    )\n",
        "    \n",
        "    df_target = (\n",
        "        df_historico_abt\n",
        "        .query(f'order_approved_at >= \"{data_ref_safra}\" & order_approved_at < \"{data_sup_exclusiva}\"')\n",
        "        .filter(['seller_id'])\n",
        "        .drop_duplicates()\n",
        "    )\n",
        "\n",
        "    df_abt = (\n",
        "        df_features\n",
        "        .merge(df_target, how='left', on='seller_id', indicator=True)\n",
        "        .assign(nao_revendeu_next_6m = lambda df: np.where(df['_merge'] == \"left_only\", 1, 0))\n",
        "        .filter(['data_ref_safra', 'seller_id', 'uf', 'tot_orders_12m', 'tot_items_12m', 'tot_items_dist_12m', 'receita_12m', 'recencia', 'nao_revendeu_next_6m'])\n",
        "    )\n",
        "\n",
        "    df_abt_safras = pd.concat([df_abt_safras, df_abt])"
      ]
    },
    {
      "cell_type": "code",
      "execution_count": null,
      "metadata": {
        "colab": {
          "base_uri": "https://localhost:8080/",
          "height": 204
        },
        "id": "tnWDkrzrerC-",
        "outputId": "167dcdb4-b8c7-416f-b807-05f05e6212cd"
      },
      "outputs": [
        {
          "data": {
            "text/html": [
              "<div>\n",
              "<style scoped>\n",
              "    .dataframe tbody tr th:only-of-type {\n",
              "        vertical-align: middle;\n",
              "    }\n",
              "\n",
              "    .dataframe tbody tr th {\n",
              "        vertical-align: top;\n",
              "    }\n",
              "\n",
              "    .dataframe thead th {\n",
              "        text-align: right;\n",
              "    }\n",
              "</style>\n",
              "<table border=\"1\" class=\"dataframe\">\n",
              "  <thead>\n",
              "    <tr style=\"text-align: right;\">\n",
              "      <th></th>\n",
              "      <th>data_ref_safra</th>\n",
              "      <th>seller_id</th>\n",
              "      <th>uf</th>\n",
              "      <th>tot_orders_12m</th>\n",
              "      <th>tot_items_12m</th>\n",
              "      <th>tot_items_dist_12m</th>\n",
              "      <th>receita_12m</th>\n",
              "      <th>recencia</th>\n",
              "      <th>nao_revendeu_next_6m</th>\n",
              "    </tr>\n",
              "  </thead>\n",
              "  <tbody>\n",
              "    <tr>\n",
              "      <th>0</th>\n",
              "      <td>2018-01-01</td>\n",
              "      <td>0015a82c2db000af6aaaf3ae2ecb0532</td>\n",
              "      <td>SP</td>\n",
              "      <td>3</td>\n",
              "      <td>3</td>\n",
              "      <td>1</td>\n",
              "      <td>2685.00</td>\n",
              "      <td>74</td>\n",
              "      <td>1</td>\n",
              "    </tr>\n",
              "    <tr>\n",
              "      <th>1</th>\n",
              "      <td>2018-01-01</td>\n",
              "      <td>001cca7ae9ae17fb1caed9dfb1094831</td>\n",
              "      <td>ES</td>\n",
              "      <td>171</td>\n",
              "      <td>207</td>\n",
              "      <td>9</td>\n",
              "      <td>21275.23</td>\n",
              "      <td>2</td>\n",
              "      <td>0</td>\n",
              "    </tr>\n",
              "    <tr>\n",
              "      <th>2</th>\n",
              "      <td>2018-01-01</td>\n",
              "      <td>002100f778ceb8431b7a1020ff7ab48f</td>\n",
              "      <td>SP</td>\n",
              "      <td>38</td>\n",
              "      <td>42</td>\n",
              "      <td>15</td>\n",
              "      <td>781.80</td>\n",
              "      <td>2</td>\n",
              "      <td>0</td>\n",
              "    </tr>\n",
              "    <tr>\n",
              "      <th>3</th>\n",
              "      <td>2018-01-01</td>\n",
              "      <td>003554e2dce176b5555353e4f3555ac8</td>\n",
              "      <td>GO</td>\n",
              "      <td>1</td>\n",
              "      <td>1</td>\n",
              "      <td>1</td>\n",
              "      <td>120.00</td>\n",
              "      <td>16</td>\n",
              "      <td>1</td>\n",
              "    </tr>\n",
              "    <tr>\n",
              "      <th>4</th>\n",
              "      <td>2018-01-01</td>\n",
              "      <td>004c9cd9d87a3c30c522c48c4fc07416</td>\n",
              "      <td>SP</td>\n",
              "      <td>130</td>\n",
              "      <td>141</td>\n",
              "      <td>75</td>\n",
              "      <td>16228.88</td>\n",
              "      <td>8</td>\n",
              "      <td>0</td>\n",
              "    </tr>\n",
              "  </tbody>\n",
              "</table>\n",
              "</div>"
            ],
            "text/plain": [
              "  data_ref_safra  ... nao_revendeu_next_6m\n",
              "0     2018-01-01  ...                    1\n",
              "1     2018-01-01  ...                    0\n",
              "2     2018-01-01  ...                    0\n",
              "3     2018-01-01  ...                    1\n",
              "4     2018-01-01  ...                    0\n",
              "\n",
              "[5 rows x 9 columns]"
            ]
          },
          "execution_count": 50,
          "metadata": {
            "tags": []
          },
          "output_type": "execute_result"
        }
      ],
      "source": [
        "df_abt_safras.head()"
      ]
    },
    {
      "cell_type": "code",
      "execution_count": null,
      "metadata": {
        "colab": {
          "base_uri": "https://localhost:8080/"
        },
        "id": "BKIHmn-FezYf",
        "outputId": "28d08fbe-77b3-4a38-bf40-324981ff78f4"
      },
      "outputs": [
        {
          "data": {
            "text/plain": [
              "2018-01-01    1690\n",
              "2018-02-01    1805\n",
              "2018-03-01    1874\n",
              "2018-04-01    1941\n",
              "2018-05-01    2104\n",
              "2018-06-01    2213\n",
              "Name: data_ref_safra, dtype: int64"
            ]
          },
          "execution_count": 52,
          "metadata": {
            "tags": []
          },
          "output_type": "execute_result"
        }
      ],
      "source": [
        "df_abt_safras['data_ref_safra'].value_counts().sort_index()"
      ]
    },
    {
      "cell_type": "code",
      "execution_count": null,
      "metadata": {
        "colab": {
          "base_uri": "https://localhost:8080/"
        },
        "id": "jn5fyRwBfDrV",
        "outputId": "54dc9a8b-53b1-4536-8f88-b1211a561f46"
      },
      "outputs": [
        {
          "data": {
            "text/plain": [
              "(11627, 9)"
            ]
          },
          "execution_count": 53,
          "metadata": {
            "tags": []
          },
          "output_type": "execute_result"
        }
      ],
      "source": [
        "df_abt_safras.shape"
      ]
    },
    {
      "cell_type": "markdown",
      "metadata": {
        "id": "3Ku0ZIPBTSOl"
      },
      "source": [
        "# Verificando as Distribuições da Variável Target"
      ]
    },
    {
      "cell_type": "code",
      "execution_count": null,
      "metadata": {
        "colab": {
          "base_uri": "https://localhost:8080/",
          "height": 266
        },
        "id": "fr__fxe9fJ2_",
        "outputId": "a3c384da-c97a-4971-c34d-92c387f56f30"
      },
      "outputs": [
        {
          "data": {
            "text/html": [
              "<div>\n",
              "<style scoped>\n",
              "    .dataframe tbody tr th:only-of-type {\n",
              "        vertical-align: middle;\n",
              "    }\n",
              "\n",
              "    .dataframe tbody tr th {\n",
              "        vertical-align: top;\n",
              "    }\n",
              "\n",
              "    .dataframe thead th {\n",
              "        text-align: right;\n",
              "    }\n",
              "</style>\n",
              "<table border=\"1\" class=\"dataframe\">\n",
              "  <thead>\n",
              "    <tr style=\"text-align: right;\">\n",
              "      <th></th>\n",
              "      <th>prop_nao_revenderam</th>\n",
              "    </tr>\n",
              "    <tr>\n",
              "      <th>data_ref_safra</th>\n",
              "      <th></th>\n",
              "    </tr>\n",
              "  </thead>\n",
              "  <tbody>\n",
              "    <tr>\n",
              "      <th>2018-01-01</th>\n",
              "      <td>0.376331</td>\n",
              "    </tr>\n",
              "    <tr>\n",
              "      <th>2018-02-01</th>\n",
              "      <td>0.395568</td>\n",
              "    </tr>\n",
              "    <tr>\n",
              "      <th>2018-03-01</th>\n",
              "      <td>0.411419</td>\n",
              "    </tr>\n",
              "    <tr>\n",
              "      <th>2018-04-01</th>\n",
              "      <td>0.435858</td>\n",
              "    </tr>\n",
              "    <tr>\n",
              "      <th>2018-05-01</th>\n",
              "      <td>0.471008</td>\n",
              "    </tr>\n",
              "    <tr>\n",
              "      <th>2018-06-01</th>\n",
              "      <td>0.558066</td>\n",
              "    </tr>\n",
              "  </tbody>\n",
              "</table>\n",
              "</div>"
            ],
            "text/plain": [
              "                prop_nao_revenderam\n",
              "data_ref_safra                     \n",
              "2018-01-01                 0.376331\n",
              "2018-02-01                 0.395568\n",
              "2018-03-01                 0.411419\n",
              "2018-04-01                 0.435858\n",
              "2018-05-01                 0.471008\n",
              "2018-06-01                 0.558066"
            ]
          },
          "execution_count": 56,
          "metadata": {
            "tags": []
          },
          "output_type": "execute_result"
        }
      ],
      "source": [
        "(\n",
        "    df_abt_safras\n",
        "    .groupby('data_ref_safra')\n",
        "    .agg(prop_nao_revenderam = ('nao_revendeu_next_6m', 'mean'))\n",
        ")"
      ]
    },
    {
      "cell_type": "markdown",
      "metadata": {
        "id": "iJclIB2ATxD9"
      },
      "source": [
        "# Salvando a ABT "
      ]
    },
    {
      "cell_type": "code",
      "execution_count": null,
      "metadata": {
        "id": "4qpQ57u9TFYN"
      },
      "outputs": [],
      "source": [
        "df_abt_safras.to_csv('../datasets/propensao_revenda_abt.csv', index=False)"
      ]
    },
    {
      "cell_type": "code",
      "execution_count": null,
      "metadata": {
        "id": "iLFpfzU3VNB2"
      },
      "outputs": [],
      "source": []
    }
  ],
  "metadata": {
    "colab": {
      "collapsed_sections": [],
      "name": "aula7-parte01-criando-abt.ipynb",
      "provenance": []
    },
    "kernelspec": {
      "display_name": "base",
      "language": "python",
      "name": "python3"
    },
    "language_info": {
      "name": "python",
      "version": "3.11.0"
    }
  },
  "nbformat": 4,
  "nbformat_minor": 0
}
